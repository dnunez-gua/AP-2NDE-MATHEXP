{
 "cells": [
  {
   "cell_type": "markdown",
   "metadata": {},
   "source": [
    "# Passage d'une base à une autre\n",
    "\n",
    "\n",
    "Ce carnet a pour but de passer d'une base binaire à une base décimale. <br>\n",
    "Les programmes utilisent des chaines de caractères (str) qui ont un traitement particulier en programmation. On peut parcourir cette chaine pour connaitre chaque lettre "
   ]
  },
  {
   "cell_type": "markdown",
   "metadata": {},
   "source": [
    "## Chaine de caractères\n",
    "\n"
   ]
  },
  {
   "cell_type": "code",
   "execution_count": null,
   "metadata": {},
   "outputs": [],
   "source": [
    "animaux = \"girafe tigre\"\n",
    "taille = len(animaux)\n",
    "print(taille)"
   ]
  },
  {
   "cell_type": "markdown",
   "metadata": {},
   "source": [
    "La taille de la chaine est donnée par la fonction len(). Elle renvoie un entier donnant le nombre de caractères de la chaine.\n"
   ]
  },
  {
   "cell_type": "code",
   "execution_count": null,
   "metadata": {},
   "outputs": [],
   "source": [
    "lettre =animaux[3]\n",
    "print(lettre)"
   ]
  },
  {
   "cell_type": "markdown",
   "metadata": {},
   "source": [
    "On peut décomposer le mot en lettre grace aux crochets. <br>\n",
    "Attention : le chiffre entre crochets ne doit pas dépasser la taille du mot <br>\n",
    "La première lettre est numérotée 0<br>\n",
    "Tester les manipulations suivantes et expliquer les fonctionnalités"
   ]
  },
  {
   "cell_type": "code",
   "execution_count": null,
   "metadata": {},
   "outputs": [],
   "source": [
    "animaux = \"girafe tigre\"\n",
    "print(animaux[0:4])\n",
    "print(animaux[9:])\n",
    "print(animaux[:-2])\n",
    "print(animaux[1:-2:2])"
   ]
  },
  {
   "cell_type": "markdown",
   "metadata": {},
   "source": [
    "On peut augmenter une chaine en ajoutant des lettres\n"
   ]
  },
  {
   "cell_type": "code",
   "execution_count": null,
   "metadata": {},
   "outputs": [],
   "source": [
    "animaux = \"girafe tigre\"\n",
    "animaux=\"lion \"+animaux \n",
    "print(animaux)"
   ]
  },
  {
   "cell_type": "markdown",
   "metadata": {},
   "source": [
    "## Application aux bases numériques"
   ]
  },
  {
   "cell_type": "markdown",
   "metadata": {},
   "source": [
    "Tester le programme suivant "
   ]
  },
  {
   "cell_type": "code",
   "execution_count": null,
   "metadata": {},
   "outputs": [],
   "source": [
    "# Chaine est le nombre en binaire \n",
    "chaine=\"11010\"\n",
    "# Base est la base dans laquel est donné la chaine\n",
    "base=2\n",
    "# Nombre est le décodage en décimal\n",
    "nombre=0\n",
    "for i in range(len(chaine)) :\n",
    "# n est le i-ième chiffre de la chaine\n",
    "    n=int(chaine[i])\n",
    "# On calcule nombre en multipliant n par 2 puissance i ( dans le cas du binaire)\n",
    "    nombre=nombre + n*base**(len(chaine)-1-i)\n",
    "print(nombre)"
   ]
  },
  {
   "cell_type": "markdown",
   "metadata": {},
   "source": [
    "Reprenez ce programme en demandant à l'utilisateur d'entrer un nombre en binaire."
   ]
  },
  {
   "cell_type": "code",
   "execution_count": null,
   "metadata": {},
   "outputs": [],
   "source": []
  },
  {
   "cell_type": "markdown",
   "metadata": {},
   "source": [
    "Reprenez ce programme en demandant à l'utisateur de rentrer la base "
   ]
  },
  {
   "cell_type": "code",
   "execution_count": null,
   "metadata": {},
   "outputs": [],
   "source": []
  },
  {
   "cell_type": "markdown",
   "metadata": {},
   "source": [
    "## passage décimal dans une autre base\n"
   ]
  },
  {
   "cell_type": "code",
   "execution_count": null,
   "metadata": {},
   "outputs": [],
   "source": [
    "# Nombre est la valeur en décimal\n",
    "nombre =30\n",
    "# Chaine est le nombre codé dans la base souhaitée\n",
    "chaine=\"\"\n",
    "# Base est ici la binaire\n",
    "base=2\n",
    "while nombre >(base-1) :\n",
    "# Tant que nombre est différent de 1 (ici car c'est du binaire, on s'arrete à 1)\n",
    "# nombre%base est le reste de la division de nombre avec base\n",
    "# On augmente la chaine de caractère\n",
    "    chaine = str(nombre %base)+chaine\n",
    "# on remplace nombre par le quotient de nombre avec base\n",
    "    nombre=nombre//base\n",
    "#On ajoute le premier caractère (ici 1) à la chaine\n",
    "chaine=str(base-1)+chaine\n",
    "print(chaine)"
   ]
  },
  {
   "cell_type": "markdown",
   "metadata": {},
   "source": [
    "Reprendre ce code pour n'importe quel nombre en base 10\n"
   ]
  },
  {
   "cell_type": "code",
   "execution_count": null,
   "metadata": {},
   "outputs": [],
   "source": []
  },
  {
   "cell_type": "markdown",
   "metadata": {},
   "source": [
    "Reprendre ce code pour n'importe quelle base"
   ]
  },
  {
   "cell_type": "code",
   "execution_count": null,
   "metadata": {},
   "outputs": [],
   "source": []
  },
  {
   "cell_type": "markdown",
   "metadata": {},
   "source": [
    "Revoyer la base shadock pour demander ce nombre dans cette base. "
   ]
  },
  {
   "cell_type": "code",
   "execution_count": null,
   "metadata": {},
   "outputs": [],
   "source": []
  }
 ],
 "metadata": {
  "kernelspec": {
   "display_name": "Python 3",
   "language": "python",
   "name": "python3"
  },
  "language_info": {
   "codemirror_mode": {
    "name": "ipython",
    "version": 3
   },
   "file_extension": ".py",
   "mimetype": "text/x-python",
   "name": "python",
   "nbconvert_exporter": "python",
   "pygments_lexer": "ipython3",
   "version": "3.7.1"
  }
 },
 "nbformat": 4,
 "nbformat_minor": 2
}
